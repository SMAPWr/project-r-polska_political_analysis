{
 "cells": [
  {
   "cell_type": "code",
   "execution_count": 2,
   "metadata": {},
   "outputs": [],
   "source": [
    "import glob\n",
    "from tqdm.auto import tqdm, trange\n",
    "import requests\n",
    "import xml.etree.ElementTree as et\n",
    "import json\n",
    "import numpy as np\n",
    "import re\n",
    "import networkx as nx\n",
    "import matplotlib.pyplot as plt\n",
    "import random\n",
    "import time"
   ]
  },
  {
   "cell_type": "code",
   "execution_count": 3,
   "metadata": {},
   "outputs": [],
   "source": [
    "from html_parser import WykopParser"
   ]
  },
  {
   "cell_type": "code",
   "execution_count": 4,
   "metadata": {
    "scrolled": false
   },
   "outputs": [
    {
     "data": {
      "application/vnd.jupyter.widget-view+json": {
       "model_id": "00de91711e574f308383319c95aa3ea2",
       "version_major": 2,
       "version_minor": 0
      },
      "text/plain": [
       "HBox(children=(FloatProgress(value=0.0, max=500.0), HTML(value='')))"
      ]
     },
     "metadata": {},
     "output_type": "display_data"
    },
    {
     "name": "stdout",
     "output_type": "stream",
     "text": [
      "\n"
     ]
    }
   ],
   "source": [
    "tag ='polska'\n",
    "total_pages = 500\n",
    "\n",
    "\n",
    "results = []\n",
    "bar = trange(1, total_pages + 1)\n",
    "for page_n in bar:\n",
    "    success = False\n",
    "    while not success:\n",
    "        try:\n",
    "            r = requests.get(f'https://www.wykop.pl/strona/{page_n}/').text\n",
    "            success = True\n",
    "        except:\n",
    "            time.sleep(1)\n",
    "    \n",
    "    parser = WykopParser()\n",
    "    parser.feed(r)\n",
    "    \n",
    "    articles = parser.root\\\n",
    "                     .find('div', [('class', 'article'), ('class', 'clearfix'), ('class', 'preview'), ('class', 'dC')])\\\n",
    "                     .contain('a', [('class', 'tag'), ('class', 'affect'), ('class', 'create')], [tag])\n",
    "        \n",
    "    titles= articles.find('h2')\\\n",
    "                    .find('a', [('href', 'http'), ('title', '')]) \n",
    "    texts = articles.find('p', [('class', 'text')])\\\n",
    "                    .find('a', [('href', 'http')])\n",
    "    times = articles.find('time', [('datetime', '')])\n",
    "    authrs= articles.find('div', [('class', 'fix-tagline')])\\\n",
    "                    .find('', [('class', 'color-'), ('class', 'affect')]).contain('em')\n",
    "    \n",
    "    if len(texts) != len(titles) or len(times) != len(titles) or len(authrs) != len(titles):\n",
    "        print('broken page', len(titles), len(texts), len(times), len(authrs))\n",
    "    \n",
    "    for i, a1 in enumerate(titles):\n",
    "        results.append((times[i].attrs['datetime'], a1.attrs['href'], \n",
    "                        authrs[i].data, a1.data, texts[i].data))\n",
    "        \n",
    "    bar.set_description('Scraped wykops: '+str(len(results)))\n",
    "    "
   ]
  },
  {
   "cell_type": "code",
   "execution_count": 5,
   "metadata": {},
   "outputs": [
    {
     "data": {
      "text/plain": [
       "('2020-12-01T08:28:29+01:00',\n",
       " 'https://www.wykop.pl/link/5827569/ksiadz-po-koledzie-w-tym-roku-nie-przyjdzie-jak-wplynie-to-na-finanse/',\n",
       " 'janusz_z_czarnolasu',\n",
       " 'Ksiądz po kolędzie w tym roku nie przyjdzie. Jak wpłynie to na finanse...',\n",
       " '\\n\\t\\t\\t\\t\\tW bogatych parafiach tzw. kolęda przynosiła co roku nawet kilkaset tysięcy złotych, w mniej zamożnych – kilkadziesiąt. Dla wielu wspólnot wpływy z \"wizyt duszpasterskich\" przynosiły jedną trzecią rocznych przychodów. Jak sobie teraz poradzą?\\t\\t        ')"
      ]
     },
     "execution_count": 5,
     "metadata": {},
     "output_type": "execute_result"
    }
   ],
   "source": [
    "results[-1]"
   ]
  },
  {
   "cell_type": "code",
   "execution_count": null,
   "metadata": {},
   "outputs": [],
   "source": []
  }
 ],
 "metadata": {
  "kernelspec": {
   "display_name": "Python 3",
   "language": "python",
   "name": "python3"
  },
  "language_info": {
   "codemirror_mode": {
    "name": "ipython",
    "version": 3
   },
   "file_extension": ".py",
   "mimetype": "text/x-python",
   "name": "python",
   "nbconvert_exporter": "python",
   "pygments_lexer": "ipython3",
   "version": "3.8.5"
  }
 },
 "nbformat": 4,
 "nbformat_minor": 4
}
