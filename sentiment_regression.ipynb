{
 "cells": [
  {
   "cell_type": "code",
   "execution_count": 57,
   "metadata": {},
   "outputs": [],
   "source": [
    "from transformers import XLMTokenizer, RobertaModel\n",
    "import glob\n",
    "import pandas as pd\n",
    "import pickle\n",
    "import numpy as np\n",
    "from tqdm.auto import tqdm, trange\n",
    "import torch\n",
    "from torch import nn\n",
    "import random\n",
    "import math\n",
    "import matplotlib.pyplot as plt\n",
    "import csv\n",
    "from sentimentpl.models import SentimentPLModel"
   ]
  },
  {
   "cell_type": "code",
   "execution_count": 60,
   "metadata": {},
   "outputs": [],
   "source": [
    "model = SentimentPLModel(from_pretrained='latest')\n",
    "model.to('cuda')\n",
    "pass"
   ]
  },
  {
   "cell_type": "code",
   "execution_count": null,
   "metadata": {
    "scrolled": false
   },
   "outputs": [],
   "source": [
    "count = 10\n",
    "\n",
    "for filename in glob.glob('sentiment_data/#*.csv'): \n",
    "    with open(filename, 'r', encoding='utf-8') as f:\n",
    "        f_len = len([1 for _ in f])\n",
    "    with open(filename, 'r', encoding='utf-8') as f:\n",
    "        reader = csv.reader(f, delimiter='\\t', quotechar='\"')\n",
    "        next(reader, None)\n",
    "        res = [(row[10], model([row[10]]).item()) for row in tqdm(reader, total=f_len)]\n",
    "        most_positive = sorted(res, key=lambda x: -x[1])[:count]\n",
    "        most_negative = sorted(res, key=lambda x: x[1])[:count]\n",
    "    \n",
    "    print('\\n\\n', filename, '\\n')\n",
    "    print('\\n\\nmost positive')\n",
    "    for e in most_positive:\n",
    "        print(e[0])\n",
    "        print(e[1])\n",
    "        print()\n",
    "    print('\\n\\nmost negative')\n",
    "    for e in most_negative:\n",
    "        print(e[0])\n",
    "        print(e[1])\n",
    "        print()"
   ]
  },
  {
   "cell_type": "code",
   "execution_count": 59,
   "metadata": {},
   "outputs": [
    {
     "data": {
      "application/vnd.jupyter.widget-view+json": {
       "model_id": "b25e456fb19142d9b38af2245f6d698c",
       "version_major": 2,
       "version_minor": 0
      },
      "text/plain": [
       "HBox(children=(FloatProgress(value=0.0, max=19.0), HTML(value='')))"
      ]
     },
     "metadata": {},
     "output_type": "display_data"
    },
    {
     "name": "stdout",
     "output_type": "stream",
     "text": [
      "\n"
     ]
    }
   ],
   "source": [
    "count = 20\n",
    "output_filename = f'hashtag_sampled_{count}.csv'\n",
    "\n",
    "output = []\n",
    "for filename in tqdm(glob.glob('sentiment_data/#*.csv')): \n",
    "    with open(filename, 'r', encoding='utf-8') as f:\n",
    "        lines = [l.split('\\t') for l in f][1:]\n",
    "    output += [f'#{filename.split(\"#\")[-1].split(\".csv\")[0]},{row[0]},\"{row[10]}\",{model([row[10]]).item()}\\n' \n",
    "              for row in random.sample(lines, min(count, len(lines)))]\n",
    "with open(output_filename, 'w', encoding='utf-8') as f:\n",
    "    f.writelines(output)"
   ]
  },
  {
   "cell_type": "code",
   "execution_count": null,
   "metadata": {},
   "outputs": [],
   "source": []
  }
 ],
 "metadata": {
  "kernelspec": {
   "display_name": "Python 3",
   "language": "python",
   "name": "python3"
  },
  "language_info": {
   "codemirror_mode": {
    "name": "ipython",
    "version": 3
   },
   "file_extension": ".py",
   "mimetype": "text/x-python",
   "name": "python",
   "nbconvert_exporter": "python",
   "pygments_lexer": "ipython3",
   "version": "3.8.5"
  }
 },
 "nbformat": 4,
 "nbformat_minor": 4
}
