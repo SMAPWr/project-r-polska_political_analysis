{
 "cells": [
  {
   "cell_type": "code",
   "execution_count": 2,
   "metadata": {},
   "outputs": [],
   "source": [
    "import glob\n",
    "from tqdm.auto import tqdm, trange\n",
    "import requests\n",
    "import xml.etree.ElementTree as et\n",
    "import json\n",
    "import numpy as np\n",
    "import re\n",
    "import networkx as nx\n",
    "import matplotlib.pyplot as plt\n",
    "import random\n",
    "import time"
   ]
  },
  {
   "cell_type": "code",
   "execution_count": 3,
   "metadata": {},
   "outputs": [],
   "source": [
    "from html_parser import WykopParser"
   ]
  },
  {
   "cell_type": "code",
   "execution_count": 11,
   "metadata": {
    "scrolled": false
   },
   "outputs": [
    {
     "data": {
      "application/vnd.jupyter.widget-view+json": {
       "model_id": "1596dbac51004346908365a3948bf2dc",
       "version_major": 2,
       "version_minor": 0
      },
      "text/plain": [
       "HBox(children=(FloatProgress(value=0.0), HTML(value='')))"
      ]
     },
     "metadata": {},
     "output_type": "display_data"
    },
    {
     "name": "stdout",
     "output_type": "stream",
     "text": [
      "\n"
     ]
    }
   ],
   "source": [
    "tag ='polska'\n",
    "total_pages = 100\n",
    "\n",
    "\n",
    "results = []\n",
    "bar = trange(1, total_pages + 1)\n",
    "for page_n in bar:\n",
    "    success = False\n",
    "    while not success:\n",
    "        try:\n",
    "            r = requests.get(f'https://www.wykop.pl/strona/{page_n}/').text\n",
    "            success = True\n",
    "        except:\n",
    "            time.sleep(1)\n",
    "    \n",
    "    parser = WykopParser()\n",
    "    parser.feed(r)\n",
    "    \n",
    "    articles = parser.root\\\n",
    "                     .find('div', [('class', 'article'), ('class', 'clearfix'), ('class', 'preview'), ('class', 'dC')])\\\n",
    "                     .contain('a', [('class', 'tag'), ('class', 'affect'), ('class', 'create')], [tag])\n",
    "        \n",
    "    titles= articles.find('h2')\\\n",
    "                    .find('a', [('href', 'http'), ('title', '')]) \n",
    "    texts = articles.find('p', [('class', 'text')])\\\n",
    "                    .find('a', [('href', 'http')])\n",
    "    times = articles.find('time', [('datetime', '')])\n",
    "    \n",
    "    if len(texts) != len(titles) or len(times) != len(titles):\n",
    "        print('broken page')\n",
    "        continue\n",
    "    \n",
    "    for i, a1 in enumerate(titles):\n",
    "        results.append((times[i].attrs['datetime'], a1.attrs['href'], a1.data, texts[i].data))\n",
    "        \n",
    "    bar.set_description('Scraped wykops: '+str(len(results)))\n",
    "    "
   ]
  },
  {
   "cell_type": "code",
   "execution_count": 12,
   "metadata": {},
   "outputs": [
    {
     "data": {
      "text/plain": [
       "('2020-11-07T16:26:01+01:00',\n",
       " 'https://www.wykop.pl/link/5787203/minister-ka-z-pis-zignorowala-caly-szereg-przepisow-prawa-pracy-sady-mowia-nie/',\n",
       " 'Minister(ka) z PIS zignorowała cały szereg przepisów prawa pracy Sądy mówią NIE',\n",
       " '\\n\\t\\t\\t\\t\\tWiceminister sprawiedliwości w piśmie do prezesów sądów rekomenduje pracę na dwie zmiany. I to już od poniedziałku. Niestety poza poleceniem sądy nie otrzymały instrukcji jak zgodnie z prawem wprowadzić tego rodzaju zmiany oraz czy minister oczekuje łamania prawa pracy. Więcej w pierwszym wpisie.\\t\\t        ')"
      ]
     },
     "execution_count": 12,
     "metadata": {},
     "output_type": "execute_result"
    }
   ],
   "source": [
    "results[-1]"
   ]
  },
  {
   "cell_type": "code",
   "execution_count": null,
   "metadata": {},
   "outputs": [],
   "source": []
  }
 ],
 "metadata": {
  "kernelspec": {
   "display_name": "Python 3",
   "language": "python",
   "name": "python3"
  },
  "language_info": {
   "codemirror_mode": {
    "name": "ipython",
    "version": 3
   },
   "file_extension": ".py",
   "mimetype": "text/x-python",
   "name": "python",
   "nbconvert_exporter": "python",
   "pygments_lexer": "ipython3",
   "version": "3.8.5"
  }
 },
 "nbformat": 4,
 "nbformat_minor": 4
}
